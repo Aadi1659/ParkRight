{
 "cells": [
  {
   "cell_type": "code",
   "execution_count": 1,
   "metadata": {},
   "outputs": [],
   "source": [
    "import cv2\n",
    "import tensorflow as tf\n",
    "import numpy as np\n",
    "import os\n",
    "import glob\n",
    "import csv\n"
   ]
  },
  {
   "cell_type": "code",
   "execution_count": 2,
   "metadata": {},
   "outputs": [],
   "source": [
    "batch_size = 32\n",
    "img_size = (140,140)\n",
    "num_classes = 3 #either empty, occupied or not occupied"
   ]
  },
  {
   "cell_type": "code",
   "execution_count": 3,
   "metadata": {},
   "outputs": [],
   "source": [
    "def prepare(img):\n",
    "    rescale = tf.keras.layers.experimental.preprocessing.Rescaling(scale=1./255, input_shape=(img_size[0],img_size[1],3))\n",
    "    img = rescale(img)\n",
    "    return img"
   ]
  },
  {
   "cell_type": "code",
   "execution_count": 4,
   "metadata": {},
   "outputs": [],
   "source": [
    "model = tf.keras.models.load_model(\"my_model\")"
   ]
  },
  {
   "cell_type": "code",
   "execution_count": 5,
   "metadata": {},
   "outputs": [
    {
     "data": {
      "text/plain": [
       "['test.png']"
      ]
     },
     "execution_count": 5,
     "metadata": {},
     "output_type": "execute_result"
    }
   ],
   "source": [
    "img_path_list = glob.glob(\"test.png\")\n",
    "img_path_list"
   ]
  },
  {
   "cell_type": "code",
   "execution_count": 6,
   "metadata": {},
   "outputs": [
    {
     "name": "stdout",
     "output_type": "stream",
     "text": [
      "1/1 [==============================] - 10s 10s/step\n",
      "Number of correct parking: 4, IDs: ['2', '3', '13', '14']\n",
      "Number of empty parking: 4, IDs: ['1', '6', '9', '11']\n",
      "Number of wrong parking: 6, IDs: ['4', '5', '7', '8', '10', '12']\n"
     ]
    }
   ],
   "source": [
    "for img_path in  img_path_list:\n",
    "\n",
    "    #read the image\n",
    "    image = cv2.imread(img_path)\n",
    "    csv_path = 'camera.csv'\n",
    "\n",
    "    with open(csv_path, newline='') as f:\n",
    "        boxes = list(csv.reader(f))\n",
    "    \n",
    "    #crop images\n",
    "    image_input = np.zeros(shape=(len(boxes[1:]), img_size[0], img_size[1], 3))\n",
    "    for i, one_box in enumerate(boxes[1:]):\n",
    "        one_box_x = int(int(one_box[1]))\n",
    "        one_box_y = int(int(one_box[2]))\n",
    "        one_box_w = int(int(one_box[3]))\n",
    "        one_box_h = int(int(one_box[4]))\n",
    "        img_resized = cv2.resize(image[one_box_y:one_box_y+one_box_h, one_box_x:one_box_x+one_box_w], img_size,\n",
    "                                 interpolation=cv2.INTER_CUBIC)\n",
    "        image_input[i] = (prepare(np.expand_dims(img_resized, axis=0)))\n",
    "\n",
    "    #predict the labels\n",
    "    output = model.predict(image_input)\n",
    "\n",
    "    #get the label\n",
    "    label = np.argmax(output, axis=1)\n",
    "\n",
    "    # Initialize lists to store IDs\n",
    "    correct_parking_ids = []\n",
    "    empty_parking_ids = []\n",
    "    wrong_parking_ids = []\n",
    "\n",
    "    colors = [(0, 255, 0), (255, 0, 0), (0, 0, 255)]  # Green, Blue, Red\n",
    "\n",
    "    for i, one_box in enumerate(boxes[1:]):\n",
    "        one_box_x = int(int(one_box[1]))\n",
    "        one_box_y = int(int(one_box[2]))\n",
    "        one_box_w = int(int(one_box[3]))\n",
    "        one_box_h = int(int(one_box[4]))\n",
    "\n",
    "        color = colors[label[i]]\n",
    "\n",
    "        image = cv2.rectangle(image, (one_box_x, one_box_y), (one_box_x + one_box_w, one_box_y + one_box_h),\n",
    "                          color, 4)\n",
    "        cv2.putText(image, ('ID:' + str(one_box[0])), (one_box_x, one_box_y - 10), cv2.FONT_HERSHEY_SIMPLEX, 1,\n",
    "                color, 2)\n",
    "        # Append the ID to the appropriate list\n",
    "        if label[i] == 0:\n",
    "            correct_parking_ids.append(one_box[0])\n",
    "        elif label[i] == 1:\n",
    "            empty_parking_ids.append(one_box[0])\n",
    "        else:\n",
    "            wrong_parking_ids.append(one_box[0])\n",
    "\n",
    "    # Print counts and IDs\n",
    "    print(f\"Number of correct parking: {len(correct_parking_ids)}, IDs: {correct_parking_ids}\")\n",
    "    print(f\"Number of empty parking: {len(empty_parking_ids)}, IDs: {empty_parking_ids}\")\n",
    "    print(f\"Number of wrong parking: {len(wrong_parking_ids)}, IDs: {wrong_parking_ids}\")\n",
    "\n",
    "    #show prediction\n",
    "    cv2.imshow('prediction', image)\n",
    "    cv2.waitKey(0)\n"
   ]
  },
  {
   "cell_type": "code",
   "execution_count": 7,
   "metadata": {},
   "outputs": [
    {
     "data": {
      "text/plain": [
       "(array([[1.4703746e-06, 9.9973422e-01, 2.6430955e-04],\n",
       "        [9.9751544e-01, 7.1082616e-07, 2.4838706e-03],\n",
       "        [9.9933666e-01, 7.8070525e-07, 6.6252856e-04],\n",
       "        [6.6238290e-06, 1.8977570e-06, 9.9999154e-01],\n",
       "        [4.6834390e-04, 7.6663237e-06, 9.9952400e-01],\n",
       "        [1.2930115e-06, 9.9986649e-01, 1.3216701e-04],\n",
       "        [8.9241405e-07, 9.0071936e-08, 9.9999905e-01],\n",
       "        [8.2640567e-05, 2.4582200e-06, 9.9991488e-01],\n",
       "        [2.5331555e-04, 7.5245386e-01, 2.4729283e-01],\n",
       "        [1.2627353e-04, 1.2874258e-06, 9.9987245e-01],\n",
       "        [2.8097745e-06, 9.9985838e-01, 1.3877937e-04],\n",
       "        [1.5433191e-03, 6.8494719e-06, 9.9844980e-01],\n",
       "        [9.9773765e-01, 7.0540891e-06, 2.2552891e-03],\n",
       "        [9.9980456e-01, 1.1633880e-06, 1.9421735e-04]], dtype=float32),\n",
       " array([1, 0, 0, 2, 2, 1, 2, 2, 1, 2, 1, 2, 0, 0], dtype=int64))"
      ]
     },
     "execution_count": 7,
     "metadata": {},
     "output_type": "execute_result"
    }
   ],
   "source": [
    "output,label"
   ]
  }
 ],
 "metadata": {
  "kernelspec": {
   "display_name": "Python 3",
   "language": "python",
   "name": "python3"
  },
  "language_info": {
   "codemirror_mode": {
    "name": "ipython",
    "version": 3
   },
   "file_extension": ".py",
   "mimetype": "text/x-python",
   "name": "python",
   "nbconvert_exporter": "python",
   "pygments_lexer": "ipython3",
   "version": "3.10.6"
  }
 },
 "nbformat": 4,
 "nbformat_minor": 2
}
